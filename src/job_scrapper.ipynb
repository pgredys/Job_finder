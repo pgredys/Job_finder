{
 "cells": [
  {
   "cell_type": "code",
   "id": "initial_id",
   "metadata": {
    "collapsed": true,
    "ExecuteTime": {
     "end_time": "2024-05-12T17:25:11.235395Z",
     "start_time": "2024-05-12T17:25:11.065409Z"
    }
   },
   "source": [
    "from gen_url import WebsiteUrl\n",
    "from web_extractor import web_extractor"
   ],
   "outputs": [],
   "execution_count": 1
  },
  {
   "metadata": {
    "ExecuteTime": {
     "end_time": "2024-05-12T17:25:19.850588Z",
     "start_time": "2024-05-12T17:25:11.236401Z"
    }
   },
   "cell_type": "code",
   "source": [
    "params = {'jobs': ['data', 'science', 'python'], 'location': 'krakow'}\n",
    "\n",
    "websites = WebsiteUrl()\n",
    "for website in websites.url_gen:\n",
    "    # print(type(website))\n",
    "    url = websites.gen_url(website, params)\n",
    "    web = web_extractor(url)\n",
    "    print(web.title.string)"
   ],
   "id": "f15a5ee0822ae3db",
   "outputs": [
    {
     "name": "stdout",
     "output_type": "stream",
     "text": [
      "data collected\n",
      "Ponad 200 ofert pracy (Data Science Python), zatrudnienie: Kraków, małopolskie 12 maja 2024| Indeed.com\n"
     ]
    }
   ],
   "execution_count": 2
  }
 ],
 "metadata": {
  "kernelspec": {
   "display_name": "Python 3",
   "language": "python",
   "name": "python3"
  },
  "language_info": {
   "codemirror_mode": {
    "name": "ipython",
    "version": 2
   },
   "file_extension": ".py",
   "mimetype": "text/x-python",
   "name": "python",
   "nbconvert_exporter": "python",
   "pygments_lexer": "ipython2",
   "version": "2.7.6"
  }
 },
 "nbformat": 4,
 "nbformat_minor": 5
}
